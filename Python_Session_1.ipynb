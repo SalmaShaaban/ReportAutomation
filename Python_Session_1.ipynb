{
  "nbformat": 4,
  "nbformat_minor": 0,
  "metadata": {
    "colab": {
      "provenance": [],
      "authorship_tag": "ABX9TyNZdRU0fNEGJRzm4v5gmpK/",
      "include_colab_link": true
    },
    "kernelspec": {
      "name": "python3",
      "display_name": "Python 3"
    },
    "language_info": {
      "name": "python"
    }
  },
  "cells": [
    {
      "cell_type": "markdown",
      "metadata": {
        "id": "view-in-github",
        "colab_type": "text"
      },
      "source": [
        "<a href=\"https://colab.research.google.com/github/SalmaShaaban/ReportAutomation/blob/main/Python_Session_1.ipynb\" target=\"_parent\"><img src=\"https://colab.research.google.com/assets/colab-badge.svg\" alt=\"Open In Colab\"/></a>"
      ]
    },
    {
      "cell_type": "code",
      "source": [],
      "metadata": {
        "id": "NHYaHHn7Ljzk"
      },
      "execution_count": null,
      "outputs": []
    },
    {
      "cell_type": "code",
      "source": [
        "vowels = ['a','e','i','o','u']\n",
        "\n",
        "x= input().lower()\n",
        "counter =0\n",
        "for i in range(len(x)):\n",
        "  for vowel in vowels:\n",
        "    if x[i]  == vowel:\n",
        "          counter+=1\n",
        "print(counter)"
      ],
      "metadata": {
        "colab": {
          "base_uri": "https://localhost:8080/"
        },
        "id": "8oD-WVr5Lj2Z",
        "outputId": "aa9906d8-abae-4bea-a657-0ad982a70278"
      },
      "execution_count": null,
      "outputs": [
        {
          "output_type": "stream",
          "name": "stdout",
          "text": [
            "ABC\n",
            "1\n"
          ]
        }
      ]
    },
    {
      "cell_type": "code",
      "source": [
        "y = input()\n",
        "z=''\n",
        "for i in range(len(y)-1,-1,-1):\n",
        "    z= z + y[i]\n",
        "\n",
        "print(z)"
      ],
      "metadata": {
        "colab": {
          "base_uri": "https://localhost:8080/"
        },
        "id": "l_FExdy5Lj5s",
        "outputId": "89f917f9-b4c4-42fd-aa70-82e350c22f79"
      },
      "execution_count": null,
      "outputs": [
        {
          "output_type": "stream",
          "name": "stdout",
          "text": [
            "salma\n",
            "amlas\n"
          ]
        }
      ]
    },
    {
      "cell_type": "code",
      "source": [],
      "metadata": {
        "id": "1IZ8uAidLj85"
      },
      "execution_count": null,
      "outputs": []
    },
    {
      "cell_type": "code",
      "source": [
        "list_1 = []\n",
        "\n",
        "for i in range(5):\n",
        "    str_list = input('please enter: ')\n",
        "    list_1.append(str_list)\n",
        "\n",
        "list_1.sort()\n",
        "print('ASC',list_1)\n",
        "list_1.sort(reverse=True)\n",
        "print('DESC',list_1)"
      ],
      "metadata": {
        "colab": {
          "base_uri": "https://localhost:8080/"
        },
        "id": "GoHo9HDfLkAA",
        "outputId": "cb5b8b20-2bdc-4b28-b1af-b5406b68322f"
      },
      "execution_count": null,
      "outputs": [
        {
          "output_type": "stream",
          "name": "stdout",
          "text": [
            "please enter: A\n",
            "please enter: B\n",
            "please enter: C\n",
            "please enter: O\n",
            "please enter: Y\n",
            "ASC ['A', 'B', 'C', 'O', 'Y']\n",
            "DESC ['Y', 'O', 'C', 'B', 'A']\n"
          ]
        }
      ]
    },
    {
      "cell_type": "code",
      "source": [],
      "metadata": {
        "id": "1ETPXhBALkC8"
      },
      "execution_count": null,
      "outputs": []
    },
    {
      "cell_type": "code",
      "source": [
        "persons_info ={}\n",
        "for i in range(3):\n",
        "    name = input('Please Enter The Name :')\n",
        "    age = int(input('Please Enter The Age :'))\n",
        "    persons_info[name] = age\n",
        "\n",
        "print(persons_info)\n",
        "\n",
        "max_age = max(persons_info.values())\n",
        "print(max_age)\n",
        "min_age = min(persons_info.values())\n",
        "print(min_age)\n",
        "for name,age in persons_info.items():\n",
        "      if age == max_age:\n",
        "          print('The oldest person is: ',name)\n",
        "      if age == min_age:\n",
        "          print('The youngest person is: ',name)"
      ],
      "metadata": {
        "colab": {
          "base_uri": "https://localhost:8080/"
        },
        "id": "GM6KhWUXVQBp",
        "outputId": "46a8a33f-f477-41c8-a25b-04f8f2d1d79f"
      },
      "execution_count": null,
      "outputs": [
        {
          "output_type": "stream",
          "name": "stdout",
          "text": [
            "Please Enter The Name :Ahmed\n",
            "Please Enter The Age :30\n",
            "Please Enter The Name :Mohamed\n",
            "Please Enter The Age :20\n",
            "Please Enter The Name :Ali\n",
            "Please Enter The Age :10\n",
            "{'Ahmed': 30, 'Mohamed': 20, 'Ali': 10}\n",
            "30\n",
            "10\n",
            "The oldest person is:  Ahmed\n",
            "The youngest person is:  Ali\n"
          ]
        }
      ]
    },
    {
      "cell_type": "code",
      "source": [],
      "metadata": {
        "id": "TvPF_hObYPB5"
      },
      "execution_count": null,
      "outputs": []
    },
    {
      "cell_type": "code",
      "source": [
        "i1 = int(input('Please Enter Integer Number: '))\n",
        "\n",
        "\n",
        "if i1 % 2 == 0 :\n",
        "    print('The Number is Even')\n",
        "else:\n",
        "    print('The Number is Odd')\n",
        "\n",
        "if i1 > 0 :\n",
        "    print('The Number is Positive')\n",
        "if i1 < 0:\n",
        "    print('The Number is Negative')\n",
        "if i1 == 0:\n",
        "    print('The Number is Zero')\n",
        "\n",
        "if i1 % 5 == 0 :\n",
        "    print('The Number is divisble by 5')\n",
        "else:\n",
        "    print('The Number is not divisble by 5')"
      ],
      "metadata": {
        "colab": {
          "base_uri": "https://localhost:8080/"
        },
        "id": "Cplrn7xoLkFf",
        "outputId": "e977193f-be64-467b-9644-27cf16508e20"
      },
      "execution_count": null,
      "outputs": [
        {
          "output_type": "stream",
          "name": "stdout",
          "text": [
            "Please Enter Integer Number: 0\n",
            "The Number is Even\n",
            "The Number is Zero\n",
            "The Number is divisble by 5\n"
          ]
        }
      ]
    },
    {
      "cell_type": "code",
      "source": [],
      "metadata": {
        "id": "B-k3g7ChLkI-"
      },
      "execution_count": null,
      "outputs": []
    },
    {
      "cell_type": "code",
      "source": [
        "l2=[]\n",
        "\n",
        "start = int(input('Please Enter the Start: '))\n",
        "length = int(input('Please Enter the Length: '))\n",
        "\n",
        "for i in range(length):\n",
        "    l2.append(start+i)\n",
        "\n",
        "print(l2)"
      ],
      "metadata": {
        "colab": {
          "base_uri": "https://localhost:8080/"
        },
        "id": "6vLp72WOLkMD",
        "outputId": "2d7db0c5-e790-49cd-90ae-49ba34322f95"
      },
      "execution_count": null,
      "outputs": [
        {
          "output_type": "stream",
          "name": "stdout",
          "text": [
            "Please Enter the Start: 1\n",
            "Please Enter the Length: 10\n",
            "[1, 2, 3, 4, 5, 6, 7, 8, 9, 10]\n"
          ]
        }
      ]
    },
    {
      "cell_type": "code",
      "source": [],
      "metadata": {
        "id": "9clsnwSjLkPp"
      },
      "execution_count": null,
      "outputs": []
    },
    {
      "cell_type": "code",
      "source": [
        "users = ['salma', 'moamen', 'mostafa', 'afifi', 'fatma', 'rania', 'tohamy', 'nariman', 'usamah', 'sayed']\n",
        "\n",
        "while True:\n",
        "    user_input = input('Please Enter the Username: ').lower()\n",
        "    if user_input in [u.lower() for u in users]:\n",
        "        print('Invalid Username')\n",
        "    else:\n",
        "        print('Valid Username')\n",
        "        break"
      ],
      "metadata": {
        "colab": {
          "base_uri": "https://localhost:8080/"
        },
        "id": "DRSA-YvhhBBq",
        "outputId": "9c13c053-0942-4f0a-ca5f-8f073ecbc93b"
      },
      "execution_count": null,
      "outputs": [
        {
          "output_type": "stream",
          "name": "stdout",
          "text": [
            "Please Enter the Username: salma\n",
            "Invalid Username\n",
            "Please Enter the Username: sayed\n",
            "Invalid Username\n",
            "Please Enter the Username: ahmed\n",
            "Valid Username\n"
          ]
        }
      ]
    },
    {
      "cell_type": "code",
      "source": [
        "has_num = False\n",
        "has_lower = False\n",
        "has_upper = False\n",
        "\n",
        "while True:\n",
        "  pass_input = input('Please Enter the Password: ')\n",
        "  if len(pass_input) < 10:\n",
        "      print('Password minimum length is 10')\n",
        "  else:\n",
        "      for i in pass_input:\n",
        "        if i.isdigit():\n",
        "          has_num = True\n",
        "        elif i.islower():\n",
        "          has_lower = True\n",
        "        elif i.isupper():\n",
        "          has_upper = True\n",
        "  if has_upper and has_lower and has_num:\n",
        "      print('Valid Password')\n",
        "      break\n",
        "  else:\n",
        "      print(has_num)\n",
        "      print(has_upper)\n",
        "      print(has_lower)\n",
        "      print('Invalid - Password must contain numbers, lower and upper characters')"
      ],
      "metadata": {
        "colab": {
          "base_uri": "https://localhost:8080/"
        },
        "id": "b2a7Sliq9YTA",
        "outputId": "1e5862fb-93dc-496a-a3f1-91830de66e40"
      },
      "execution_count": null,
      "outputs": [
        {
          "output_type": "stream",
          "name": "stdout",
          "text": [
            "Please Enter the Password: Salma123456\n",
            "Valid Password\n"
          ]
        }
      ]
    }
  ]
}